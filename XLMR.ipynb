{
 "cells": [
  {
   "cell_type": "code",
   "execution_count": 1,
   "id": "840273cf-22b8-4af1-b103-4aff1456c40e",
   "metadata": {
    "execution": {
     "iopub.execute_input": "2023-05-15T23:06:35.272633Z",
     "iopub.status.busy": "2023-05-15T23:06:35.272257Z",
     "iopub.status.idle": "2023-05-15T23:06:39.918650Z",
     "shell.execute_reply": "2023-05-15T23:06:39.917444Z",
     "shell.execute_reply.started": "2023-05-15T23:06:35.272600Z"
    }
   },
   "outputs": [
    {
     "name": "stdout",
     "output_type": "stream",
     "text": [
      "Requirement already satisfied: torch in /usr/local/lib/python3.9/dist-packages (1.12.1+cu116)\n",
      "Requirement already satisfied: transformers in /usr/local/lib/python3.9/dist-packages (4.21.3)\n",
      "Requirement already satisfied: datasets in /usr/local/lib/python3.9/dist-packages (2.4.0)\n",
      "Collecting evaluate\n",
      "  Downloading evaluate-0.4.0-py3-none-any.whl (81 kB)\n",
      "\u001b[2K     \u001b[90m━━━━━━━━━━━━━━━━━━━━━━━━━━━━━━━━━━━━━━━━\u001b[0m \u001b[32m81.4/81.4 kB\u001b[0m \u001b[31m14.9 MB/s\u001b[0m eta \u001b[36m0:00:00\u001b[0m\n",
      "\u001b[?25hRequirement already satisfied: typing-extensions in /usr/local/lib/python3.9/dist-packages (from torch) (4.4.0)\n",
      "Requirement already satisfied: pyyaml>=5.1 in /usr/local/lib/python3.9/dist-packages (from transformers) (5.4.1)\n",
      "Requirement already satisfied: tokenizers!=0.11.3,<0.13,>=0.11.1 in /usr/local/lib/python3.9/dist-packages (from transformers) (0.12.1)\n",
      "Requirement already satisfied: requests in /usr/local/lib/python3.9/dist-packages (from transformers) (2.28.2)\n",
      "Requirement already satisfied: regex!=2019.12.17 in /usr/local/lib/python3.9/dist-packages (from transformers) (2022.10.31)\n",
      "Requirement already satisfied: numpy>=1.17 in /usr/local/lib/python3.9/dist-packages (from transformers) (1.23.4)\n",
      "Requirement already satisfied: filelock in /usr/local/lib/python3.9/dist-packages (from transformers) (3.9.0)\n",
      "Requirement already satisfied: tqdm>=4.27 in /usr/local/lib/python3.9/dist-packages (from transformers) (4.64.1)\n",
      "Requirement already satisfied: packaging>=20.0 in /usr/local/lib/python3.9/dist-packages (from transformers) (23.0)\n",
      "Requirement already satisfied: huggingface-hub<1.0,>=0.1.0 in /usr/local/lib/python3.9/dist-packages (from transformers) (0.12.0)\n",
      "Requirement already satisfied: fsspec[http]>=2021.11.1 in /usr/local/lib/python3.9/dist-packages (from datasets) (2023.1.0)\n",
      "Requirement already satisfied: responses<0.19 in /usr/local/lib/python3.9/dist-packages (from datasets) (0.18.0)\n",
      "Requirement already satisfied: pyarrow>=6.0.0 in /usr/local/lib/python3.9/dist-packages (from datasets) (10.0.1)\n",
      "Requirement already satisfied: dill<0.3.6 in /usr/local/lib/python3.9/dist-packages (from datasets) (0.3.5.1)\n",
      "Requirement already satisfied: xxhash in /usr/local/lib/python3.9/dist-packages (from datasets) (3.2.0)\n",
      "Requirement already satisfied: multiprocess in /usr/local/lib/python3.9/dist-packages (from datasets) (0.70.13)\n",
      "Requirement already satisfied: aiohttp in /usr/local/lib/python3.9/dist-packages (from datasets) (3.8.3)\n",
      "Requirement already satisfied: pandas in /usr/local/lib/python3.9/dist-packages (from datasets) (1.5.0)\n",
      "Requirement already satisfied: multidict<7.0,>=4.5 in /usr/local/lib/python3.9/dist-packages (from aiohttp->datasets) (6.0.4)\n",
      "Requirement already satisfied: frozenlist>=1.1.1 in /usr/local/lib/python3.9/dist-packages (from aiohttp->datasets) (1.3.3)\n",
      "Requirement already satisfied: charset-normalizer<3.0,>=2.0 in /usr/local/lib/python3.9/dist-packages (from aiohttp->datasets) (2.1.1)\n",
      "Requirement already satisfied: yarl<2.0,>=1.0 in /usr/local/lib/python3.9/dist-packages (from aiohttp->datasets) (1.8.2)\n",
      "Requirement already satisfied: aiosignal>=1.1.2 in /usr/local/lib/python3.9/dist-packages (from aiohttp->datasets) (1.3.1)\n",
      "Requirement already satisfied: async-timeout<5.0,>=4.0.0a3 in /usr/local/lib/python3.9/dist-packages (from aiohttp->datasets) (4.0.2)\n",
      "Requirement already satisfied: attrs>=17.3.0 in /usr/local/lib/python3.9/dist-packages (from aiohttp->datasets) (18.2.0)\n",
      "Requirement already satisfied: urllib3<1.27,>=1.21.1 in /usr/local/lib/python3.9/dist-packages (from requests->transformers) (1.26.14)\n",
      "Requirement already satisfied: certifi>=2017.4.17 in /usr/lib/python3/dist-packages (from requests->transformers) (2019.11.28)\n",
      "Requirement already satisfied: idna<4,>=2.5 in /usr/lib/python3/dist-packages (from requests->transformers) (2.8)\n",
      "Requirement already satisfied: pytz>=2020.1 in /usr/local/lib/python3.9/dist-packages (from pandas->datasets) (2022.7.1)\n",
      "Requirement already satisfied: python-dateutil>=2.8.1 in /usr/local/lib/python3.9/dist-packages (from pandas->datasets) (2.8.2)\n",
      "Requirement already satisfied: six>=1.5 in /usr/lib/python3/dist-packages (from python-dateutil>=2.8.1->pandas->datasets) (1.14.0)\n",
      "Installing collected packages: evaluate\n",
      "Successfully installed evaluate-0.4.0\n",
      "\u001b[33mWARNING: Running pip as the 'root' user can result in broken permissions and conflicting behaviour with the system package manager. It is recommended to use a virtual environment instead: https://pip.pypa.io/warnings/venv\u001b[0m\u001b[33m\n",
      "\u001b[0m"
     ]
    }
   ],
   "source": [
    "!pip install torch transformers datasets evaluate"
   ]
  },
  {
   "cell_type": "code",
   "execution_count": 2,
   "id": "7437acb3-fd84-4a90-82c4-cdc47efe70b8",
   "metadata": {
    "execution": {
     "iopub.execute_input": "2023-05-15T23:06:39.920933Z",
     "iopub.status.busy": "2023-05-15T23:06:39.920615Z",
     "iopub.status.idle": "2023-05-15T23:06:51.772941Z",
     "shell.execute_reply": "2023-05-15T23:06:51.771985Z",
     "shell.execute_reply.started": "2023-05-15T23:06:39.920906Z"
    }
   },
   "outputs": [],
   "source": [
    "import sys\n",
    "import pandas as pd\n",
    "from tqdm.auto import tqdm\n",
    "import random\n",
    "import numpy as np\n",
    "import random\n",
    "import torch\n",
    "import gc\n",
    "import os\n",
    "import csv\n",
    "import torch.nn as nn\n",
    "import evaluate\n",
    "from datetime import datetime\n",
    "from torch.utils.data import DataLoader\n",
    "from torch.optim import AdamW\n",
    "from datasets import load_metric, Dataset\n",
    "from transformers import AutoTokenizer, DataCollatorWithPadding, AutoModelForSequenceClassification,get_scheduler"
   ]
  },
  {
   "cell_type": "code",
   "execution_count": 3,
   "id": "20f31744-54e7-4750-bec0-4ca37afb06f3",
   "metadata": {
    "execution": {
     "iopub.execute_input": "2023-05-15T23:06:51.775184Z",
     "iopub.status.busy": "2023-05-15T23:06:51.774117Z",
     "iopub.status.idle": "2023-05-15T23:06:54.162740Z",
     "shell.execute_reply": "2023-05-15T23:06:54.161820Z",
     "shell.execute_reply.started": "2023-05-15T23:06:51.775153Z"
    }
   },
   "outputs": [
    {
     "data": {
      "application/vnd.jupyter.widget-view+json": {
       "model_id": "55f01c3bc2d8437abcd5d196034ba5ab",
       "version_major": 2,
       "version_minor": 0
      },
      "text/plain": [
       "Downloading config.json:   0%|          | 0.00/615 [00:00<?, ?B/s]"
      ]
     },
     "metadata": {},
     "output_type": "display_data"
    },
    {
     "data": {
      "application/vnd.jupyter.widget-view+json": {
       "model_id": "9863a831b222410d97dc16ede5f93a45",
       "version_major": 2,
       "version_minor": 0
      },
      "text/plain": [
       "Downloading sentencepiece.bpe.model:   0%|          | 0.00/4.83M [00:00<?, ?B/s]"
      ]
     },
     "metadata": {},
     "output_type": "display_data"
    },
    {
     "data": {
      "application/vnd.jupyter.widget-view+json": {
       "model_id": "8a71ceb485f244acab303a95b66a0b59",
       "version_major": 2,
       "version_minor": 0
      },
      "text/plain": [
       "Downloading tokenizer.json:   0%|          | 0.00/8.68M [00:00<?, ?B/s]"
      ]
     },
     "metadata": {},
     "output_type": "display_data"
    },
    {
     "name": "stdout",
     "output_type": "stream",
     "text": [
      "cuda:0\n"
     ]
    }
   ],
   "source": [
    "DEVICE = torch.device(\"cuda:0\" if torch.cuda.is_available() else \"cpu\")\n",
    "CHECKPOINT = \"xlm-roberta-base\"  # transformer model checkpoint\n",
    "tokenizer = AutoTokenizer.from_pretrained(CHECKPOINT)\n",
    "print(DEVICE)"
   ]
  },
  {
   "cell_type": "code",
   "execution_count": 4,
   "id": "0cca7008-52e3-4e37-8c34-c5870ff2b4e8",
   "metadata": {
    "execution": {
     "iopub.execute_input": "2023-05-15T23:06:54.165268Z",
     "iopub.status.busy": "2023-05-15T23:06:54.165004Z",
     "iopub.status.idle": "2023-05-15T23:06:54.172728Z",
     "shell.execute_reply": "2023-05-15T23:06:54.171586Z",
     "shell.execute_reply.started": "2023-05-15T23:06:54.165244Z"
    }
   },
   "outputs": [
    {
     "name": "stdout",
     "output_type": "stream",
     "text": [
      "env: CUBLAS_WORKSPACE_CONFIG=:4096:8\n"
     ]
    },
    {
     "data": {
      "text/plain": [
       "':4096:8'"
      ]
     },
     "execution_count": 4,
     "metadata": {},
     "output_type": "execute_result"
    }
   ],
   "source": [
    "%env CUBLAS_WORKSPACE_CONFIG = :4096:8\n",
    "os.getenv('CUBLAS_WORKSPACE_CONFIG')"
   ]
  },
  {
   "cell_type": "code",
   "execution_count": 5,
   "id": "bf7052a3-0233-4738-8b5e-4e0f68c4d92c",
   "metadata": {
    "execution": {
     "iopub.execute_input": "2023-05-15T23:06:54.174736Z",
     "iopub.status.busy": "2023-05-15T23:06:54.174182Z",
     "iopub.status.idle": "2023-05-15T23:06:54.183670Z",
     "shell.execute_reply": "2023-05-15T23:06:54.182938Z",
     "shell.execute_reply.started": "2023-05-15T23:06:54.174698Z"
    }
   },
   "outputs": [],
   "source": [
    "torch.manual_seed(0)\n",
    "random.seed(0)\n",
    "np.random.seed(0)\n",
    "os.environ['CUDA_LAUNCH_BLOCKING'] = '1'\n",
    "torch.backends.cudnn.benchmark = False\n",
    "torch.use_deterministic_algorithms(True)\n",
    "g = torch.Generator()\n",
    "g.manual_seed(0)\n",
    "rng = np.random.default_rng(seed=0)"
   ]
  },
  {
   "cell_type": "code",
   "execution_count": 6,
   "id": "423defea-ec4d-4a5d-b39a-62581fbcd51c",
   "metadata": {
    "execution": {
     "iopub.execute_input": "2023-05-15T23:06:54.184812Z",
     "iopub.status.busy": "2023-05-15T23:06:54.184583Z",
     "iopub.status.idle": "2023-05-15T23:06:54.188883Z",
     "shell.execute_reply": "2023-05-15T23:06:54.188038Z",
     "shell.execute_reply.started": "2023-05-15T23:06:54.184789Z"
    }
   },
   "outputs": [],
   "source": [
    "def seed_worker(worker_id):\n",
    "    worker_seed = 0\n",
    "    np.random.seed(worker_seed)\n",
    "    random.seed(worker_seed)"
   ]
  },
  {
   "cell_type": "code",
   "execution_count": 7,
   "id": "1f972a19-c6a8-44f9-a3a1-08d3a889add7",
   "metadata": {
    "execution": {
     "iopub.execute_input": "2023-05-15T23:06:54.189983Z",
     "iopub.status.busy": "2023-05-15T23:06:54.189746Z",
     "iopub.status.idle": "2023-05-15T23:06:54.194223Z",
     "shell.execute_reply": "2023-05-15T23:06:54.193355Z",
     "shell.execute_reply.started": "2023-05-15T23:06:54.189961Z"
    }
   },
   "outputs": [],
   "source": [
    "def tokenize_function(examples):\n",
    "        return tokenizer(examples[\"prompt\"], truncation=True)"
   ]
  },
  {
   "cell_type": "code",
   "execution_count": 13,
   "id": "a1c68861-eaf3-444f-99ae-8ff0a713da93",
   "metadata": {
    "execution": {
     "iopub.execute_input": "2023-05-15T23:07:10.077722Z",
     "iopub.status.busy": "2023-05-15T23:07:10.076850Z",
     "iopub.status.idle": "2023-05-15T23:07:10.085688Z",
     "shell.execute_reply": "2023-05-15T23:07:10.084556Z",
     "shell.execute_reply.started": "2023-05-15T23:07:10.077682Z"
    }
   },
   "outputs": [],
   "source": [
    "def load_train_data(fileName):\n",
    "\n",
    "    df = pd.read_json(\"/datasets/jsonlemails/FrenchPrompts_prepared_train.jsonl\", lines = True)\n",
    "\n",
    "    ham = len(df[df['completion'] == 0])\n",
    "    spam = len(df[df['completion'] == 1])\n",
    "\n",
    "    total = ham + spam\n",
    "    print(f\"Total = {total}\")\n",
    "    hamratio = ham / total\n",
    "    spamratio = spam / total\n",
    "\n",
    "    print(f\"Ham:{ham}\")\n",
    "    print(f\"Spam:{spam}\")\n",
    "    print(f\"Ham Ration:{hamratio}\")\n",
    "    print(f\"Spam Ration:{spamratio}\")\n",
    "\n",
    "    raw_datasets = Dataset.from_pandas(df)\n",
    "\n",
    "    raw_datasets = raw_datasets.shuffle(generator = rng)\n",
    "\n",
    "    tokenized_datasets = raw_datasets.map(tokenize_function, batched=True)\n",
    "\n",
    "    tokenized_datasets = tokenized_datasets.remove_columns(\"prompt\")\n",
    "    tokenized_datasets = tokenized_datasets.rename_column(\"completion\", \"labels\")\n",
    "    tokenized_datasets.set_format(\"torch\")\n",
    "\n",
    "    if tokenized_datasets.column_names.count(\"__index_level_0__\") > 0:\n",
    "        tokenized_datasets = tokenized_datasets.remove_columns(\"__index_level_0__\") \n",
    "\n",
    "    data_collator = DataCollatorWithPadding(tokenizer=tokenizer)\n",
    "    trainloader = DataLoader(\n",
    "        tokenized_datasets,\n",
    "        batch_size=16,\n",
    "        collate_fn=data_collator,\n",
    "        worker_init_fn=seed_worker,\n",
    "        generator=g,\n",
    "    )\n",
    "    \n",
    "    return trainloader"
   ]
  },
  {
   "cell_type": "code",
   "execution_count": 9,
   "id": "b7ecb4b3-6318-4c09-ab42-fe1f32ad6177",
   "metadata": {
    "execution": {
     "iopub.execute_input": "2023-05-15T23:06:54.204215Z",
     "iopub.status.busy": "2023-05-15T23:06:54.203971Z",
     "iopub.status.idle": "2023-05-15T23:06:54.211372Z",
     "shell.execute_reply": "2023-05-15T23:06:54.210561Z",
     "shell.execute_reply.started": "2023-05-15T23:06:54.204191Z"
    }
   },
   "outputs": [],
   "source": [
    "def load_test_data(fileName):\n",
    "    \n",
    "    df = pd.read_json(\"/datasets/jsonlemails/enron1_prepared_valid.jsonl\", lines = True)\n",
    "\n",
    "    ham = len(df[df['completion'] == 0])\n",
    "    spam = len(df[df['completion'] == 1])\n",
    "\n",
    "    total = ham + spam\n",
    "    print(f\"Total = {total}\")\n",
    "    hamratio = ham / total\n",
    "    spamratio = spam / total\n",
    "\n",
    "    print(f\"Ham:{ham}\")\n",
    "    print(f\"Spam:{spam}\")\n",
    "    print(f\"Ham Ration:{hamratio}\")\n",
    "    print(f\"Spam Ration:{spamratio}\")\n",
    "\n",
    "    raw_datasets = Dataset.from_pandas(df)\n",
    "    raw_datasets = raw_datasets.shuffle(generator = rng)\n",
    "\n",
    "    tokenized_datasets = raw_datasets.map(tokenize_function, batched=True)\n",
    "    tokenized_datasets = tokenized_datasets.remove_columns(\"prompt\")\n",
    "    tokenized_datasets = tokenized_datasets.rename_column(\"completion\", \"labels\")\n",
    "    tokenized_datasets.set_format(\"torch\")\n",
    "    \n",
    "    if tokenized_datasets.column_names.count(\"__index_level_0__\") > 0:\n",
    "        tokenized_datasets = tokenized_datasets.remove_columns(\"__index_level_0__\") \n",
    "\n",
    "    data_collator = DataCollatorWithPadding(tokenizer=tokenizer)\n",
    "    testloader = DataLoader(\n",
    "        tokenized_datasets, batch_size=16, collate_fn=data_collator, worker_init_fn=seed_worker, generator=g\n",
    "    )\n",
    "    return testloader"
   ]
  },
  {
   "cell_type": "code",
   "execution_count": 10,
   "id": "f50eb007-2e14-491c-8b1e-cccef0e561be",
   "metadata": {
    "execution": {
     "iopub.execute_input": "2023-05-15T23:06:54.213711Z",
     "iopub.status.busy": "2023-05-15T23:06:54.213454Z",
     "iopub.status.idle": "2023-05-15T23:06:54.220521Z",
     "shell.execute_reply": "2023-05-15T23:06:54.219777Z",
     "shell.execute_reply.started": "2023-05-15T23:06:54.213689Z"
    }
   },
   "outputs": [],
   "source": [
    "def train(net, trainloader, epochs):\n",
    "    total_steps = len(trainloader) * epochs\n",
    "    total_train_loss = 0\n",
    "    optimizer = AdamW(net.parameters(),lr = 5e-5)\n",
    "\n",
    "    lr_scheduler = get_scheduler(\n",
    "        \"linear\", \n",
    "        optimizer=optimizer,\n",
    "        num_warmup_steps=0, \n",
    "        num_training_steps=total_steps\n",
    ")\n",
    "    \n",
    "    progress_bar = tqdm(range(total_steps))\n",
    "\n",
    "    net.train()\n",
    "    for epoch in range(epochs):\n",
    "        for batch in trainloader:\n",
    "            start_time = datetime.now()\n",
    "            batch = {k: v.to(DEVICE) for k, v in batch.items()}\n",
    "            outputs = net(**batch)\n",
    "            loss = outputs.loss\n",
    "            total_train_loss += loss.item()\n",
    "            loss.backward()\n",
    "            optimizer.step()\n",
    "            lr_scheduler.step()\n",
    "            optimizer.zero_grad()\n",
    "            progress_bar.update(1)\n",
    "\n",
    "            end_time = datetime.now()\n",
    "            print(\"Epoch: \"+ str(epoch + 1) + \"\\tTime: \" + str(end_time - start_time) + \"\\tLoss: \" + str((loss.item())))\n",
    "\n",
    "    avg_train_loss = total_train_loss / len(trainloader) \n",
    "    print(\"Average training loss: {0:.2f}\".format(avg_train_loss))"
   ]
  },
  {
   "cell_type": "code",
   "execution_count": 11,
   "id": "7d9b38b2-a387-487b-92ff-cf5442ae72bd",
   "metadata": {
    "execution": {
     "iopub.execute_input": "2023-05-15T23:06:54.221731Z",
     "iopub.status.busy": "2023-05-15T23:06:54.221477Z",
     "iopub.status.idle": "2023-05-15T23:06:54.231077Z",
     "shell.execute_reply": "2023-05-15T23:06:54.230042Z",
     "shell.execute_reply.started": "2023-05-15T23:06:54.221707Z"
    }
   },
   "outputs": [],
   "source": [
    "def test(net, testloader):\n",
    "    accuracy_metric = evaluate.load(\"accuracy\")\n",
    "\n",
    "    precision_metric0 = evaluate.load(\"precision\")\n",
    "    precision_metric1 = evaluate.load(\"precision\")\n",
    "\n",
    "    recall_metric0 = evaluate.load(\"recall\")\n",
    "    recall_metric1 = evaluate.load(\"recall\")\n",
    "\n",
    "    f1_metric0 = evaluate.load(\"f1\")\n",
    "    f1_metric1 = evaluate.load(\"f1\")\n",
    "\n",
    "    net.eval()\n",
    "    for batch in testloader:\n",
    "        batch = {k: v.to(DEVICE) for k, v in batch.items()}\n",
    "        with torch.no_grad():\n",
    "            outputs = net(**batch)\n",
    "\n",
    "        loss = outputs.loss.item()\n",
    "        logits = outputs.logits\n",
    "        predictions = torch.argmax(logits, dim=-1)\n",
    "        accuracy_metric.add_batch(predictions=predictions, references=batch[\"labels\"])\n",
    "\n",
    "        precision_metric0.add_batch(predictions=predictions, references=batch[\"labels\"])\n",
    "        recall_metric0.add_batch(predictions=predictions, references=batch[\"labels\"])\n",
    "        f1_metric0.add_batch(predictions=predictions, references=batch[\"labels\"])\n",
    "\n",
    "        precision_metric1.add_batch(predictions=predictions, references=batch[\"labels\"])\n",
    "        recall_metric1.add_batch(predictions=predictions, references=batch[\"labels\"])\n",
    "        f1_metric1.add_batch(predictions=predictions, references=batch[\"labels\"])\n",
    "    \n",
    "    accuracy = accuracy_metric.compute()\n",
    "\n",
    "    precison0 = precision_metric0.compute(pos_label = 0)\n",
    "    precison1 = precision_metric1.compute(pos_label = 1)\n",
    "\n",
    "    recall0 = recall_metric0.compute(pos_label = 0)\n",
    "    recall1 = recall_metric1.compute(pos_label = 1)\n",
    "\n",
    "    f1_0 = f1_metric0.compute(pos_label = 0)\n",
    "    f1_1 = f1_metric1.compute(pos_label = 1)\n",
    "\n",
    "\n",
    "    return accuracy, precison0, precison1, recall0, recall1, f1_0, f1_1"
   ]
  },
  {
   "cell_type": "code",
   "execution_count": 14,
   "id": "01f64355-ba95-497e-aa0e-be6615c8acd8",
   "metadata": {
    "execution": {
     "iopub.execute_input": "2023-05-15T23:07:13.029653Z",
     "iopub.status.busy": "2023-05-15T23:07:13.028706Z",
     "iopub.status.idle": "2023-05-15T23:07:13.898200Z",
     "shell.execute_reply": "2023-05-15T23:07:13.897325Z",
     "shell.execute_reply.started": "2023-05-15T23:07:13.029626Z"
    }
   },
   "outputs": [
    {
     "name": "stdout",
     "output_type": "stream",
     "text": [
      "Total = 472\n",
      "Ham:232\n",
      "Spam:240\n",
      "Ham Ration:0.4915254237288136\n",
      "Spam Ration:0.5084745762711864\n"
     ]
    },
    {
     "data": {
      "application/vnd.jupyter.widget-view+json": {
       "model_id": "b4b1f10089a745678e9a36555b7c7765",
       "version_major": 2,
       "version_minor": 0
      },
      "text/plain": [
       "  0%|          | 0/1 [00:00<?, ?ba/s]"
      ]
     },
     "metadata": {},
     "output_type": "display_data"
    },
    {
     "name": "stdout",
     "output_type": "stream",
     "text": [
      "Total = 996\n",
      "Ham:713\n",
      "Spam:283\n",
      "Ham Ration:0.7158634538152611\n",
      "Spam Ration:0.28413654618473894\n"
     ]
    },
    {
     "data": {
      "application/vnd.jupyter.widget-view+json": {
       "model_id": "24edd3f973354c7694f49a2ff6338f57",
       "version_major": 2,
       "version_minor": 0
      },
      "text/plain": [
       "  0%|          | 0/1 [00:00<?, ?ba/s]"
      ]
     },
     "metadata": {},
     "output_type": "display_data"
    }
   ],
   "source": [
    "trainloader = load_train_data(0)\n",
    "testloader = load_test_data(0)\n"
   ]
  },
  {
   "cell_type": "code",
   "execution_count": null,
   "id": "24ad9cea-ad56-4c84-8246-61c33a41f8f3",
   "metadata": {
    "execution": {
     "iopub.status.busy": "2023-05-15T23:06:54.596000Z",
     "iopub.status.idle": "2023-05-15T23:06:54.596408Z",
     "shell.execute_reply": "2023-05-15T23:06:54.596230Z",
     "shell.execute_reply.started": "2023-05-15T23:06:54.596201Z"
    }
   },
   "outputs": [],
   "source": [
    "net = AutoModelForSequenceClassification.from_pretrained(\n",
    "        CHECKPOINT, num_labels=2\n",
    "    ).to(DEVICE)\n",
    "train(net, trainloader,2)"
   ]
  },
  {
   "cell_type": "code",
   "execution_count": null,
   "id": "c219859e-a012-44b4-9879-b96459007403",
   "metadata": {
    "execution": {
     "iopub.status.busy": "2023-05-15T23:06:54.597256Z",
     "iopub.status.idle": "2023-05-15T23:06:54.597611Z",
     "shell.execute_reply": "2023-05-15T23:06:54.597450Z",
     "shell.execute_reply.started": "2023-05-15T23:06:54.597427Z"
    }
   },
   "outputs": [],
   "source": [
    "accuracy, precision0, precision1, recall0, recall1, f1_0, f1_1 = test(net, testloader)\n",
    "print(f\"\"\"Final test set performance:\n",
    "    \\n\\t{accuracy}\\n\\t\n",
    "\n",
    "    \\n\\t(Pos Label 0){precision0}\n",
    "    \\n\\t(Pos Label 1){precision1}\\n\\t\n",
    "\n",
    "    \\n\\t(Pos Label 0){recall0}\n",
    "    \\n\\t(Pos Label 1){recall1}\\n\\t\n",
    "\n",
    "    \\n\\t(Pos Label 0){f1_0}\n",
    "    \\n\\t(Pos Label 1){f1_1}\\n\\t\n",
    "    \"\"\")"
   ]
  },
  {
   "cell_type": "code",
   "execution_count": null,
   "id": "26cc5779-c5c9-4c46-9072-42235c508408",
   "metadata": {
    "execution": {
     "iopub.status.busy": "2023-05-15T23:06:54.598811Z",
     "iopub.status.idle": "2023-05-15T23:06:54.599169Z",
     "shell.execute_reply": "2023-05-15T23:06:54.599023Z",
     "shell.execute_reply.started": "2023-05-15T23:06:54.599004Z"
    }
   },
   "outputs": [],
   "source": [
    "!ls /datasets/downsampleddata"
   ]
  }
 ],
 "metadata": {
  "kernelspec": {
   "display_name": "Python 3 (ipykernel)",
   "language": "python",
   "name": "python3"
  },
  "language_info": {
   "codemirror_mode": {
    "name": "ipython",
    "version": 3
   },
   "file_extension": ".py",
   "mimetype": "text/x-python",
   "name": "python",
   "nbconvert_exporter": "python",
   "pygments_lexer": "ipython3",
   "version": "3.9.16"
  }
 },
 "nbformat": 4,
 "nbformat_minor": 5
}
